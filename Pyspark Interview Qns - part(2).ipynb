{
 "cells": [
  {
   "cell_type": "code",
   "execution_count": 0,
   "metadata": {
    "application/vnd.databricks.v1+cell": {
     "cellMetadata": {
      "byteLimit": 2048000,
      "rowLimit": 10000
     },
     "inputWidgets": {},
     "nuid": "a32338c0-8aab-475b-a0e9-39eb8c0a0cae",
     "showTitle": false,
     "title": ""
    }
   },
   "outputs": [],
   "source": [
    "from pyspark.sql.functions import *"
   ]
  },
  {
   "cell_type": "markdown",
   "metadata": {
    "application/vnd.databricks.v1+cell": {
     "cellMetadata": {
      "byteLimit": 2048000,
      "rowLimit": 10000
     },
     "inputWidgets": {},
     "nuid": "287e7b07-eea9-4dd8-93c4-79a08b8b5a28",
     "showTitle": false,
     "title": ""
    }
   },
   "source": [
    "#### Convert Rows to Column\n",
    "\n",
    "<span style=\"color:magenta\">**_used Pivot function_**</span>"
   ]
  },
  {
   "cell_type": "code",
   "execution_count": 0,
   "metadata": {
    "application/vnd.databricks.v1+cell": {
     "cellMetadata": {
      "byteLimit": 2048000,
      "rowLimit": 10000
     },
     "inputWidgets": {},
     "nuid": "69919c68-0023-4a71-877e-fcc19d45664f",
     "showTitle": false,
     "title": ""
    }
   },
   "outputs": [
    {
     "output_type": "stream",
     "name": "stdout",
     "output_type": "stream",
     "text": [
      "+----+-----+-------+------+\n|cars|Delhi|Kolkata|Mumbai|\n+----+-----+-------+------+\n|Audi| 8000|   7500|  9500|\n| BMW| 5500|   8500|  6500|\n+----+-----+-------+------+\n\n"
     ]
    }
   ],
   "source": [
    "data = [('Delhi','BMW',5500),('Mumbai','BMW',6500),('Kolkata','BMW',8500),\n",
    "        ('Delhi','Audi',8000),('Mumbai','Audi',9500),('Kolkata','Audi',7500)]\n",
    "\n",
    "schema = ['city','Cars','Price']\n",
    "\n",
    "df = spark.createDataFrame(data, schema)\n",
    "# Pivotinng the data\n",
    "pivot_df = df.withColumn('price',col('price').cast('Integer')) \\\n",
    "        .groupBy('cars').pivot('city').agg(sum('Price'))\n",
    "        \n",
    "pivot_df.show()"
   ]
  },
  {
   "cell_type": "markdown",
   "metadata": {
    "application/vnd.databricks.v1+cell": {
     "cellMetadata": {
      "byteLimit": 2048000,
      "rowLimit": 10000
     },
     "inputWidgets": {},
     "nuid": "a8446506-bdeb-446c-b9e5-85416e611221",
     "showTitle": false,
     "title": ""
    }
   },
   "source": [
    "#### How to keep any specific records always on Top "
   ]
  },
  {
   "cell_type": "code",
   "execution_count": 0,
   "metadata": {
    "application/vnd.databricks.v1+cell": {
     "cellMetadata": {
      "byteLimit": 2048000,
      "rowLimit": 10000
     },
     "inputWidgets": {},
     "nuid": "fc60c907-5466-4ce7-846f-1f6ca2a93f50",
     "showTitle": false,
     "title": ""
    }
   },
   "outputs": [
    {
     "output_type": "stream",
     "name": "stdout",
     "output_type": "stream",
     "text": [
      "+-------+-------+-----+\n|country|Product|Sales|\n+-------+-------+-----+\n|     UK|  Mango|  500|\n|  India|  apple|  800|\n|     US|  apple| 1200|\n|     UK|  Mango| 2500|\n|  India|  apple|  800|\n+-------+-------+-----+\nonly showing top 5 rows\n\n"
     ]
    }
   ],
   "source": [
    "data = [('UK','Mango',500),('India','apple',800),('US','apple',1200),('UK','Mango',2500),('India','apple',800),('US','apple',2200),('UK','apple',1500),('Russia','apple',1800),('US','apple',1200),('Aus','apple',1500),('India','Mango',500),('US','Mango',1100)]\n",
    "\n",
    "schema = ['country','Product','Sales']\n",
    "\n",
    "df = spark.createDataFrame(data, schema)\n",
    "df.show(5)"
   ]
  },
  {
   "cell_type": "code",
   "execution_count": 0,
   "metadata": {
    "application/vnd.databricks.v1+cell": {
     "cellMetadata": {
      "byteLimit": 2048000,
      "rowLimit": 10000
     },
     "inputWidgets": {},
     "nuid": "90b1b027-66ee-4d81-96d6-ffd4e77bfa7a",
     "showTitle": false,
     "title": ""
    }
   },
   "outputs": [
    {
     "output_type": "stream",
     "name": "stdout",
     "output_type": "stream",
     "text": [
      "+-------+-----------+\n|country|Total_sales|\n+-------+-----------+\n|  India|       2100|\n|     US|       5700|\n|     UK|       4500|\n| Russia|       1800|\n|    Aus|       1500|\n+-------+-----------+\n\n"
     ]
    }
   ],
   "source": [
    "# Here Total_sales of India is less than US and UK but India is showing on Top position after ordering\n",
    "\n",
    "df_top =df.withColumn('sales',col('sales').cast('Integer'))\\\n",
    "        .groupBy('country').agg(sum('sales').alias('Total_sales'))\\\n",
    "        .withColumn('rank',when(col('country')=='India',1).otherwise(0)).sort('rank','Total_sales',ascending=[False,False]).drop('rank')\n",
    "df_top.show()"
   ]
  },
  {
   "cell_type": "code",
   "execution_count": 0,
   "metadata": {
    "application/vnd.databricks.v1+cell": {
     "cellMetadata": {
      "byteLimit": 2048000,
      "rowLimit": 10000
     },
     "inputWidgets": {},
     "nuid": "0db037e0-5b8f-4cae-a020-e79c6a3bbbba",
     "showTitle": false,
     "title": ""
    }
   },
   "outputs": [],
   "source": [
    "#  Sql method\n",
    "df.createOrReplaceTempView('Sales')"
   ]
  },
  {
   "cell_type": "code",
   "execution_count": 0,
   "metadata": {
    "application/vnd.databricks.v1+cell": {
     "cellMetadata": {
      "byteLimit": 2048000,
      "implicitDf": true,
      "rowLimit": 10000
     },
     "inputWidgets": {},
     "nuid": "538fc31b-9109-4f1b-9300-523724fa4dc0",
     "showTitle": false,
     "title": ""
    }
   },
   "outputs": [
    {
     "output_type": "display_data",
     "data": {
      "text/html": [
       "<style scoped>\n",
       "  .table-result-container {\n",
       "    max-height: 300px;\n",
       "    overflow: auto;\n",
       "  }\n",
       "  table, th, td {\n",
       "    border: 1px solid black;\n",
       "    border-collapse: collapse;\n",
       "  }\n",
       "  th, td {\n",
       "    padding: 5px;\n",
       "  }\n",
       "  th {\n",
       "    text-align: left;\n",
       "  }\n",
       "</style><div class='table-result-container'><table class='table-result'><thead style='background-color: white'><tr><th>Country</th><th>Total_Sales</th></tr></thead><tbody><tr><td>India</td><td>2100</td></tr><tr><td>US</td><td>5700</td></tr><tr><td>UK</td><td>4500</td></tr><tr><td>Russia</td><td>1800</td></tr><tr><td>Aus</td><td>1500</td></tr></tbody></table></div>"
      ]
     },
     "metadata": {
      "application/vnd.databricks.v1+output": {
       "addedWidgets": {},
       "aggData": [],
       "aggError": "",
       "aggOverflow": false,
       "aggSchema": [],
       "aggSeriesLimitReached": false,
       "aggType": "",
       "arguments": {},
       "columnCustomDisplayInfos": {},
       "data": [
        [
         "India",
         2100
        ],
        [
         "US",
         5700
        ],
        [
         "UK",
         4500
        ],
        [
         "Russia",
         1800
        ],
        [
         "Aus",
         1500
        ]
       ],
       "datasetInfos": [],
       "dbfsResultPath": null,
       "isJsonSchema": true,
       "metadata": {},
       "overflow": false,
       "plotOptions": {
        "customPlotOptions": {},
        "displayType": "table",
        "pivotAggregation": null,
        "pivotColumns": null,
        "xColumns": null,
        "yColumns": null
       },
       "removedWidgets": [],
       "schema": [
        {
         "metadata": "{}",
         "name": "Country",
         "type": "\"string\""
        },
        {
         "metadata": "{}",
         "name": "Total_Sales",
         "type": "\"long\""
        }
       ],
       "type": "table"
      }
     },
     "output_type": "display_data"
    }
   ],
   "source": [
    "%sql\n",
    "select Country,sum(sales) as Total_Sales \n",
    "from sales\n",
    "group by Country\n",
    "order by \n",
    "      (case when Country = 'India' then 1 else 0 end)  desc ,Total_sales desc;"
   ]
  }
 ],
 "metadata": {
  "application/vnd.databricks.v1+notebook": {
   "dashboards": [],
   "language": "python",
   "notebookMetadata": {
    "mostRecentlyExecutedCommandWithImplicitDF": {
     "commandId": 571661128137112,
     "dataframes": [
      "_sqldf"
     ]
    },
    "pythonIndentUnit": 4
   },
   "notebookName": "Pyspark Interview Qns - part(2)",
   "widgets": {}
  }
 },
 "nbformat": 4,
 "nbformat_minor": 0
}
