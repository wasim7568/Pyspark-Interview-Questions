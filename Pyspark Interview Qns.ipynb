{
 "cells": [
  {
   "cell_type": "code",
   "execution_count": 0,
   "metadata": {
    "application/vnd.databricks.v1+cell": {
     "cellMetadata": {
      "byteLimit": 2048000,
      "rowLimit": 10000
     },
     "inputWidgets": {},
     "nuid": "e3ab4c78-b28f-4f83-8fbd-4ca4bc36f5f2",
     "showTitle": false,
     "title": ""
    }
   },
   "outputs": [],
   "source": [
    "from pyspark.sql import functions as F"
   ]
  },
  {
   "cell_type": "markdown",
   "metadata": {
    "application/vnd.databricks.v1+cell": {
     "cellMetadata": {
      "byteLimit": 2048000,
      "rowLimit": 10000
     },
     "inputWidgets": {},
     "nuid": "cef4c2a3-0173-4f16-ae0b-6158cc7551de",
     "showTitle": false,
     "title": ""
    }
   },
   "source": [
    "#### Regex in Pyspark"
   ]
  },
  {
   "cell_type": "code",
   "execution_count": 0,
   "metadata": {
    "application/vnd.databricks.v1+cell": {
     "cellMetadata": {
      "byteLimit": 2048000,
      "rowLimit": 10000
     },
     "inputWidgets": {},
     "nuid": "8edda222-973c-417b-b9c4-e73b48bbc1ce",
     "showTitle": false,
     "title": ""
    }
   },
   "outputs": [
    {
     "output_type": "display_data",
     "data": {
      "text/html": [
       "<style scoped>\n",
       "  .table-result-container {\n",
       "    max-height: 300px;\n",
       "    overflow: auto;\n",
       "  }\n",
       "  table, th, td {\n",
       "    border: 1px solid black;\n",
       "    border-collapse: collapse;\n",
       "  }\n",
       "  th, td {\n",
       "    padding: 5px;\n",
       "  }\n",
       "  th {\n",
       "    text-align: left;\n",
       "  }\n",
       "</style><div class='table-result-container'><table class='table-result'><thead style='background-color: white'><tr><th>id</th><th>Name</th><th>Contact</th></tr></thead><tbody><tr><td>1</td><td>Rohit</td><td>J852485741</td></tr><tr><td>2</td><td>Shubham</td><td>6542879845</td></tr><tr><td>3</td><td>Sam</td><td>854Y698547</td></tr></tbody></table></div>"
      ]
     },
     "metadata": {
      "application/vnd.databricks.v1+output": {
       "addedWidgets": {},
       "aggData": [],
       "aggError": "",
       "aggOverflow": false,
       "aggSchema": [],
       "aggSeriesLimitReached": false,
       "aggType": "",
       "arguments": {},
       "columnCustomDisplayInfos": {},
       "data": [
        [
         1,
         "Rohit",
         "J852485741"
        ],
        [
         2,
         "Shubham",
         "6542879845"
        ],
        [
         3,
         "Sam",
         "854Y698547"
        ]
       ],
       "datasetInfos": [],
       "dbfsResultPath": null,
       "isJsonSchema": true,
       "metadata": {},
       "overflow": false,
       "plotOptions": {
        "customPlotOptions": {},
        "displayType": "table",
        "pivotAggregation": null,
        "pivotColumns": null,
        "xColumns": null,
        "yColumns": null
       },
       "removedWidgets": [],
       "schema": [
        {
         "metadata": "{}",
         "name": "id",
         "type": "\"long\""
        },
        {
         "metadata": "{}",
         "name": "Name",
         "type": "\"string\""
        },
        {
         "metadata": "{}",
         "name": "Contact",
         "type": "\"string\""
        }
       ],
       "type": "table"
      }
     },
     "output_type": "display_data"
    }
   ],
   "source": [
    "data = [(1, 'Rohit', 'J852485741'),\n",
    "        (2,'Shubham', '6542879845'),\n",
    "        (3, 'Sam', '854Y698547')]\n",
    "\n",
    "schema = ['id','Name','Contact']\n",
    "df = spark.createDataFrame(data, schema)\n",
    "df.display()"
   ]
  },
  {
   "cell_type": "code",
   "execution_count": 0,
   "metadata": {
    "application/vnd.databricks.v1+cell": {
     "cellMetadata": {
      "byteLimit": 2048000,
      "rowLimit": 10000
     },
     "inputWidgets": {},
     "nuid": "4c793e8f-2b0c-478d-889a-aa0e803bb904",
     "showTitle": false,
     "title": ""
    }
   },
   "outputs": [
    {
     "output_type": "stream",
     "name": "stdout",
     "output_type": "stream",
     "text": [
      "+---+-------+----------+\n| id|   Name|   Contact|\n+---+-------+----------+\n|  2|Shubham|6542879845|\n+---+-------+----------+\n\n"
     ]
    }
   ],
   "source": [
    "df.select(\"*\").filter(F.col('contact').rlike('^[0-9]*$')).show()"
   ]
  },
  {
   "cell_type": "markdown",
   "metadata": {
    "application/vnd.databricks.v1+cell": {
     "cellMetadata": {
      "byteLimit": 2048000,
      "rowLimit": 10000
     },
     "inputWidgets": {},
     "nuid": "9aadcd58-dc39-4e0d-98d8-85998ceb4dae",
     "showTitle": false,
     "title": ""
    }
   },
   "source": [
    "#### Count rows in each column where NULLs present"
   ]
  },
  {
   "cell_type": "code",
   "execution_count": 0,
   "metadata": {
    "application/vnd.databricks.v1+cell": {
     "cellMetadata": {
      "byteLimit": 2048000,
      "rowLimit": 10000
     },
     "inputWidgets": {},
     "nuid": "d84e0ef2-314f-42b6-9a22-4b84eee0e66d",
     "showTitle": false,
     "title": ""
    }
   },
   "outputs": [
    {
     "output_type": "display_data",
     "data": {
      "text/html": [
       "<style scoped>\n",
       "  .table-result-container {\n",
       "    max-height: 300px;\n",
       "    overflow: auto;\n",
       "  }\n",
       "  table, th, td {\n",
       "    border: 1px solid black;\n",
       "    border-collapse: collapse;\n",
       "  }\n",
       "  th, td {\n",
       "    padding: 5px;\n",
       "  }\n",
       "  th {\n",
       "    text-align: left;\n",
       "  }\n",
       "</style><div class='table-result-container'><table class='table-result'><thead style='background-color: white'><tr><th>id</th><th>name</th><th>age</th></tr></thead><tbody><tr><td>1</td><td>Rohit</td><td>20</td></tr><tr><td>2</td><td>null</td><td>30</td></tr><tr><td>3</td><td>Sam</td><td>null</td></tr><tr><td>4</td><td>null</td><td>null</td></tr><tr><td>5</td><td>null</td><td>37</td></tr></tbody></table></div>"
      ]
     },
     "metadata": {
      "application/vnd.databricks.v1+output": {
       "addedWidgets": {},
       "aggData": [],
       "aggError": "",
       "aggOverflow": false,
       "aggSchema": [],
       "aggSeriesLimitReached": false,
       "aggType": "",
       "arguments": {},
       "columnCustomDisplayInfos": {},
       "data": [
        [
         1,
         "Rohit",
         20
        ],
        [
         2,
         null,
         30
        ],
        [
         3,
         "Sam",
         null
        ],
        [
         4,
         null,
         null
        ],
        [
         5,
         null,
         37
        ]
       ],
       "datasetInfos": [],
       "dbfsResultPath": null,
       "isJsonSchema": true,
       "metadata": {},
       "overflow": false,
       "plotOptions": {
        "customPlotOptions": {},
        "displayType": "table",
        "pivotAggregation": null,
        "pivotColumns": null,
        "xColumns": null,
        "yColumns": null
       },
       "removedWidgets": [],
       "schema": [
        {
         "metadata": "{}",
         "name": "id",
         "type": "\"long\""
        },
        {
         "metadata": "{}",
         "name": "name",
         "type": "\"string\""
        },
        {
         "metadata": "{}",
         "name": "age",
         "type": "\"long\""
        }
       ],
       "type": "table"
      }
     },
     "output_type": "display_data"
    }
   ],
   "source": [
    "data = [(1, 'Rohit', 20),\n",
    "        (2, None, 30),\n",
    "        (3, 'Sam', None),\n",
    "        (4, None, None),\n",
    "        (5, None, 37)  ]\n",
    "\n",
    "schema = ['id','name','age']\n",
    "\n",
    "df = spark.createDataFrame(data, schema)\n",
    "df.display()"
   ]
  },
  {
   "cell_type": "code",
   "execution_count": 0,
   "metadata": {
    "application/vnd.databricks.v1+cell": {
     "cellMetadata": {
      "byteLimit": 2048000,
      "rowLimit": 10000
     },
     "inputWidgets": {},
     "nuid": "be15eac0-5c97-43cd-925f-b498916b2eae",
     "showTitle": false,
     "title": ""
    }
   },
   "outputs": [
    {
     "output_type": "display_data",
     "data": {
      "text/html": [
       "<style scoped>\n",
       "  .table-result-container {\n",
       "    max-height: 300px;\n",
       "    overflow: auto;\n",
       "  }\n",
       "  table, th, td {\n",
       "    border: 1px solid black;\n",
       "    border-collapse: collapse;\n",
       "  }\n",
       "  th, td {\n",
       "    padding: 5px;\n",
       "  }\n",
       "  th {\n",
       "    text-align: left;\n",
       "  }\n",
       "</style><div class='table-result-container'><table class='table-result'><thead style='background-color: white'><tr><th>null_records in id</th><th>null_records in name</th><th>null_records in age</th></tr></thead><tbody><tr><td>0</td><td>3</td><td>2</td></tr></tbody></table></div>"
      ]
     },
     "metadata": {
      "application/vnd.databricks.v1+output": {
       "addedWidgets": {},
       "aggData": [],
       "aggError": "",
       "aggOverflow": false,
       "aggSchema": [],
       "aggSeriesLimitReached": false,
       "aggType": "",
       "arguments": {},
       "columnCustomDisplayInfos": {},
       "data": [
        [
         0,
         3,
         2
        ]
       ],
       "datasetInfos": [],
       "dbfsResultPath": null,
       "isJsonSchema": true,
       "metadata": {},
       "overflow": false,
       "plotOptions": {
        "customPlotOptions": {},
        "displayType": "table",
        "pivotAggregation": null,
        "pivotColumns": null,
        "xColumns": null,
        "yColumns": null
       },
       "removedWidgets": [],
       "schema": [
        {
         "metadata": "{}",
         "name": "null_records in id",
         "type": "\"long\""
        },
        {
         "metadata": "{}",
         "name": "null_records in name",
         "type": "\"long\""
        },
        {
         "metadata": "{}",
         "name": "null_records in age",
         "type": "\"long\""
        }
       ],
       "type": "table"
      }
     },
     "output_type": "display_data"
    }
   ],
   "source": [
    "df_cnt = df.select([F.count(F.when(F.col(i).isNull(),i)).alias('null_records in ' + i) for i in df.columns])\n",
    "df_cnt.display()"
   ]
  },
  {
   "cell_type": "markdown",
   "metadata": {
    "application/vnd.databricks.v1+cell": {
     "cellMetadata": {
      "byteLimit": 2048000,
      "rowLimit": 10000
     },
     "inputWidgets": {},
     "nuid": "721f1772-ffe5-4308-a688-11cfe6aa96b0",
     "showTitle": false,
     "title": ""
    }
   },
   "source": [
    "#### How to remove delimiters"
   ]
  },
  {
   "cell_type": "code",
   "execution_count": 0,
   "metadata": {
    "application/vnd.databricks.v1+cell": {
     "cellMetadata": {
      "byteLimit": 2048000,
      "rowLimit": 10000
     },
     "inputWidgets": {},
     "nuid": "647dd833-a45d-4018-897d-e15260bff1fc",
     "showTitle": false,
     "title": ""
    }
   },
   "outputs": [
    {
     "output_type": "stream",
     "name": "stdout",
     "output_type": "stream",
     "text": [
      "+---+----+---+--------+\n| ID|NAME|Age|   Marks|\n+---+----+---+--------+\n|  1|   A| 20|31|32|34|\n|  2|   B| 21|21|32|43|\n|  3|   C| 22|21|32|11|\n|  4|   D| 23|10|12|12|\n+---+----+---+--------+\n\n"
     ]
    }
   ],
   "source": [
    "schema = ['ID', 'NAME', 'Age', 'Marks']\n",
    "\n",
    "data = [('1','A',20,'31|32|34'),\n",
    "        ('2','B',21,'21|32|43'),\n",
    "        ('3','C',22,'21|32|11'),\n",
    "        ('4','D',23,'10|12|12')]\n",
    "\n",
    "df_dlmtr = spark.createDataFrame(data, schema)\n",
    "df_dlmtr.show()\n"
   ]
  },
  {
   "cell_type": "code",
   "execution_count": 0,
   "metadata": {
    "application/vnd.databricks.v1+cell": {
     "cellMetadata": {
      "byteLimit": 2048000,
      "rowLimit": 10000
     },
     "inputWidgets": {},
     "nuid": "70a1747e-d623-433b-b498-692997d2a222",
     "showTitle": false,
     "title": ""
    }
   },
   "outputs": [
    {
     "output_type": "stream",
     "name": "stdout",
     "output_type": "stream",
     "text": [
      "+---+----+---+--------+-------+----+---+\n| ID|NAME|Age|   Marks|Physics|Math|Eng|\n+---+----+---+--------+-------+----+---+\n|  1|   A| 20|31|32|34|     31|  32| 34|\n|  2|   B| 21|21|32|43|     21|  32| 43|\n|  3|   C| 22|21|32|11|     21|  32| 11|\n|  4|   D| 23|10|12|12|     10|  12| 12|\n+---+----+---+--------+-------+----+---+\n\n"
     ]
    }
   ],
   "source": [
    "df_dlmtr = df_dlmtr.withColumn('Physics', F.split('Marks','\\|')[0])\\\n",
    "                    .withColumn('Math', F.split('Marks','\\|')[1])\\\n",
    "                    .withColumn('Eng', F.split('Marks','\\|')[2])\n",
    "df_dlmtr.show()"
   ]
  },
  {
   "cell_type": "markdown",
   "metadata": {
    "application/vnd.databricks.v1+cell": {
     "cellMetadata": {
      "byteLimit": 2048000,
      "rowLimit": 10000
     },
     "inputWidgets": {},
     "nuid": "a26130ce-f03d-44bd-8be4-0bacb1676091",
     "showTitle": false,
     "title": ""
    }
   },
   "source": [
    "#### count Null percentage for each column"
   ]
  },
  {
   "cell_type": "code",
   "execution_count": 0,
   "metadata": {
    "application/vnd.databricks.v1+cell": {
     "cellMetadata": {
      "byteLimit": 2048000,
      "rowLimit": 10000
     },
     "inputWidgets": {},
     "nuid": "e1fef43f-b958-40e6-8531-de5c10bd9141",
     "showTitle": false,
     "title": ""
    }
   },
   "outputs": [
    {
     "output_type": "stream",
     "name": "stdout",
     "output_type": "stream",
     "text": [
      "+---------+--------+-----+\n|Firstname|Lastname| City|\n+---------+--------+-----+\n|      Raj|     Doe| null|\n|     null|  Samuel|VIZAG|\n|    David|   Smith| null|\n|   Samson|    null|  HYD|\n|     Immi|   Steve|  BNG|\n|     null|    null| null|\n+---------+--------+-----+\n\n"
     ]
    }
   ],
   "source": [
    "data = [(\"Raj\",\"Doe\",None),\n",
    " (None,\"Samuel\",\"VIZAG\"),\n",
    " (\"David\",\"Smith\", None),\n",
    " (\"Samson\",None, \"HYD\"),\n",
    " (\"Immi\", \"Steve\", \"BNG\"),\n",
    " (None, None, None)]\n",
    "\n",
    "schema = [\"Firstname\", \"Lastname\", \"City\"]\n",
    "\n",
    "df = spark.createDataFrame(data, schema)\n",
    "df.cache()\n",
    "df.count()\n",
    "df.show()"
   ]
  },
  {
   "cell_type": "code",
   "execution_count": 0,
   "metadata": {
    "application/vnd.databricks.v1+cell": {
     "cellMetadata": {
      "byteLimit": 2048000,
      "rowLimit": 10000
     },
     "inputWidgets": {},
     "nuid": "63dc6a5e-c68d-499a-990a-26e9915ffdf2",
     "showTitle": false,
     "title": ""
    }
   },
   "outputs": [
    {
     "output_type": "stream",
     "name": "stdout",
     "output_type": "stream",
     "text": [
      "Firstname 33.33\nLastname 33.33\nCity 50.0\n"
     ]
    }
   ],
   "source": [
    "\n",
    "for i in df.columns:\n",
    "    total_count = df.select(F.col(i)).count()\n",
    "    null_records = df.filter(F.col(i).isNull()).count()\n",
    "    percentage = (null_records/total_count)*100\n",
    "    print(i,round(percentage,2))"
   ]
  }
 ],
 "metadata": {
  "application/vnd.databricks.v1+notebook": {
   "dashboards": [],
   "language": "python",
   "notebookMetadata": {
    "pythonIndentUnit": 4
   },
   "notebookName": "Pyspark Interview Qns",
   "widgets": {}
  }
 },
 "nbformat": 4,
 "nbformat_minor": 0
}
